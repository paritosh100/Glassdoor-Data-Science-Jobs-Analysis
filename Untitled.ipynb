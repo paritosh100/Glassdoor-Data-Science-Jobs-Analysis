{
 "cells": [
  {
   "cell_type": "markdown",
   "id": "a59806f6",
   "metadata": {},
   "source": [
    "# Importing the required libraries"
   ]
  },
  {
   "cell_type": "code",
   "execution_count": 143,
   "id": "cdafd0f7",
   "metadata": {
    "ExecuteTime": {
     "end_time": "2023-07-17T17:39:22.059913Z",
     "start_time": "2023-07-17T17:39:22.051919Z"
    }
   },
   "outputs": [],
   "source": [
    "import pandas as pd\n",
    "import numpy as np\n",
    "import matplotlib.pyplot as plt\n",
    "import seaborn as sns\n",
    "import plotly.express as px\n",
    "import plotly.graph_objects as go\n",
    "pd.set_option('display.max_rows',500)\n",
    "sns.set_style('darkgrid')\n",
    "plt.rcParams['font.size'] = 14\n",
    "plt.rcParams['figure.figsize'] = (9, 5)\n",
    "plt.rcParams['figure.facecolor'] = '#00000000'"
   ]
  },
  {
   "cell_type": "markdown",
   "id": "e5ee7726",
   "metadata": {},
   "source": [
    "# Importing and cleaning of the dataset."
   ]
  },
  {
   "cell_type": "code",
   "execution_count": 3,
   "id": "a3531bd8",
   "metadata": {
    "ExecuteTime": {
     "end_time": "2023-07-17T16:22:44.655685Z",
     "start_time": "2023-07-17T16:22:44.553706Z"
    }
   },
   "outputs": [
    {
     "data": {
      "text/html": [
       "<div>\n",
       "<style scoped>\n",
       "    .dataframe tbody tr th:only-of-type {\n",
       "        vertical-align: middle;\n",
       "    }\n",
       "\n",
       "    .dataframe tbody tr th {\n",
       "        vertical-align: top;\n",
       "    }\n",
       "\n",
       "    .dataframe thead th {\n",
       "        text-align: right;\n",
       "    }\n",
       "</style>\n",
       "<table border=\"1\" class=\"dataframe\">\n",
       "  <thead>\n",
       "    <tr style=\"text-align: right;\">\n",
       "      <th></th>\n",
       "      <th>Job Title</th>\n",
       "      <th>Salary Estimate</th>\n",
       "      <th>Job Description</th>\n",
       "      <th>Rating</th>\n",
       "      <th>Company Name</th>\n",
       "      <th>Location</th>\n",
       "      <th>Headquarters</th>\n",
       "      <th>Size</th>\n",
       "      <th>Founded</th>\n",
       "      <th>Type of ownership</th>\n",
       "      <th>Industry</th>\n",
       "      <th>Sector</th>\n",
       "      <th>Revenue</th>\n",
       "      <th>Competitors</th>\n",
       "    </tr>\n",
       "  </thead>\n",
       "  <tbody>\n",
       "    <tr>\n",
       "      <th>0</th>\n",
       "      <td>Data Scientist</td>\n",
       "      <td>$77K-$92K (Glassdoor Est.)</td>\n",
       "      <td>Data Scientist\\nAffinity Solutions / Marketing...</td>\n",
       "      <td>2.9</td>\n",
       "      <td>Affinity Solutions\\n2.9</td>\n",
       "      <td>New York, NY</td>\n",
       "      <td>New York, NY</td>\n",
       "      <td>51 to 200 employees</td>\n",
       "      <td>1998</td>\n",
       "      <td>Company - Private</td>\n",
       "      <td>Advertising &amp; Marketing</td>\n",
       "      <td>Business Services</td>\n",
       "      <td>Unknown / Non-Applicable</td>\n",
       "      <td>Commerce Signals, Cardlytics, Yodlee</td>\n",
       "    </tr>\n",
       "    <tr>\n",
       "      <th>1</th>\n",
       "      <td>Data Scientist</td>\n",
       "      <td>$77K-$92K (Glassdoor Est.)</td>\n",
       "      <td>Secure our Nation, Ignite your Future\\n\\nSumma...</td>\n",
       "      <td>4.1</td>\n",
       "      <td>ManTech\\n4.1</td>\n",
       "      <td>Chantilly, VA</td>\n",
       "      <td>Herndon, VA</td>\n",
       "      <td>5001 to 10000 employees</td>\n",
       "      <td>1968</td>\n",
       "      <td>Company - Public</td>\n",
       "      <td>Research &amp; Development</td>\n",
       "      <td>Business Services</td>\n",
       "      <td>₹100 to ₹500 billion (INR)</td>\n",
       "      <td>-1</td>\n",
       "    </tr>\n",
       "    <tr>\n",
       "      <th>2</th>\n",
       "      <td>Data Scientist</td>\n",
       "      <td>$77K-$92K (Glassdoor Est.)</td>\n",
       "      <td>By clicking the Apply button, I understand tha...</td>\n",
       "      <td>3.7</td>\n",
       "      <td>Takeda\\n3.7</td>\n",
       "      <td>Cambridge, MA</td>\n",
       "      <td>OSAKA, Japan</td>\n",
       "      <td>10000+ employees</td>\n",
       "      <td>1781</td>\n",
       "      <td>Company - Public</td>\n",
       "      <td>Biotech &amp; Pharmaceuticals</td>\n",
       "      <td>Biotech &amp; Pharmaceuticals</td>\n",
       "      <td>₹500+ billion (INR)</td>\n",
       "      <td>Novartis, Baxter, Pfizer</td>\n",
       "    </tr>\n",
       "    <tr>\n",
       "      <th>3</th>\n",
       "      <td>Data Scientist</td>\n",
       "      <td>$77K-$92K (Glassdoor Est.)</td>\n",
       "      <td>Join Our Growing Team\\nA career with A Place f...</td>\n",
       "      <td>3.0</td>\n",
       "      <td>A Place for Mom\\n3.0</td>\n",
       "      <td>Overland Park, KS</td>\n",
       "      <td>New York, NY</td>\n",
       "      <td>501 to 1000 employees</td>\n",
       "      <td>2000</td>\n",
       "      <td>Company - Private</td>\n",
       "      <td>Healthcare Services &amp; Hospitals</td>\n",
       "      <td>Healthcare</td>\n",
       "      <td>Unknown / Non-Applicable</td>\n",
       "      <td>Enlivant, Sunrise Senior Living, Brookdale Sen...</td>\n",
       "    </tr>\n",
       "    <tr>\n",
       "      <th>4</th>\n",
       "      <td>Data Scientist</td>\n",
       "      <td>$77K-$92K (Glassdoor Est.)</td>\n",
       "      <td>We are looking for Data Scientists who are int...</td>\n",
       "      <td>3.7</td>\n",
       "      <td>GovTech\\n3.7</td>\n",
       "      <td>San Francisco, CA</td>\n",
       "      <td>Singapore, Singapore</td>\n",
       "      <td>1001 to 5000 employees</td>\n",
       "      <td>2016</td>\n",
       "      <td>Government</td>\n",
       "      <td>Government Agencies</td>\n",
       "      <td>Government</td>\n",
       "      <td>Unknown / Non-Applicable</td>\n",
       "      <td>-1</td>\n",
       "    </tr>\n",
       "  </tbody>\n",
       "</table>\n",
       "</div>"
      ],
      "text/plain": [
       "        Job Title             Salary Estimate  \\\n",
       "0  Data Scientist  $77K-$92K (Glassdoor Est.)   \n",
       "1  Data Scientist  $77K-$92K (Glassdoor Est.)   \n",
       "2  Data Scientist  $77K-$92K (Glassdoor Est.)   \n",
       "3  Data Scientist  $77K-$92K (Glassdoor Est.)   \n",
       "4  Data Scientist  $77K-$92K (Glassdoor Est.)   \n",
       "\n",
       "                                     Job Description  Rating  \\\n",
       "0  Data Scientist\\nAffinity Solutions / Marketing...     2.9   \n",
       "1  Secure our Nation, Ignite your Future\\n\\nSumma...     4.1   \n",
       "2  By clicking the Apply button, I understand tha...     3.7   \n",
       "3  Join Our Growing Team\\nA career with A Place f...     3.0   \n",
       "4  We are looking for Data Scientists who are int...     3.7   \n",
       "\n",
       "              Company Name           Location          Headquarters  \\\n",
       "0  Affinity Solutions\\n2.9       New York, NY          New York, NY   \n",
       "1             ManTech\\n4.1      Chantilly, VA           Herndon, VA   \n",
       "2              Takeda\\n3.7      Cambridge, MA          OSAKA, Japan   \n",
       "3     A Place for Mom\\n3.0  Overland Park, KS          New York, NY   \n",
       "4             GovTech\\n3.7  San Francisco, CA  Singapore, Singapore   \n",
       "\n",
       "                      Size  Founded  Type of ownership  \\\n",
       "0      51 to 200 employees     1998  Company - Private   \n",
       "1  5001 to 10000 employees     1968   Company - Public   \n",
       "2         10000+ employees     1781   Company - Public   \n",
       "3    501 to 1000 employees     2000  Company - Private   \n",
       "4   1001 to 5000 employees     2016         Government   \n",
       "\n",
       "                          Industry                     Sector  \\\n",
       "0          Advertising & Marketing          Business Services   \n",
       "1           Research & Development          Business Services   \n",
       "2        Biotech & Pharmaceuticals  Biotech & Pharmaceuticals   \n",
       "3  Healthcare Services & Hospitals                 Healthcare   \n",
       "4              Government Agencies                 Government   \n",
       "\n",
       "                      Revenue  \\\n",
       "0    Unknown / Non-Applicable   \n",
       "1  ₹100 to ₹500 billion (INR)   \n",
       "2         ₹500+ billion (INR)   \n",
       "3    Unknown / Non-Applicable   \n",
       "4    Unknown / Non-Applicable   \n",
       "\n",
       "                                         Competitors  \n",
       "0               Commerce Signals, Cardlytics, Yodlee  \n",
       "1                                                 -1  \n",
       "2                           Novartis, Baxter, Pfizer  \n",
       "3  Enlivant, Sunrise Senior Living, Brookdale Sen...  \n",
       "4                                                 -1  "
      ]
     },
     "execution_count": 3,
     "metadata": {},
     "output_type": "execute_result"
    }
   ],
   "source": [
    "df = pd.read_csv('glassdoor_jobs.csv')\n",
    "df.head()"
   ]
  },
  {
   "cell_type": "code",
   "execution_count": 4,
   "id": "47a626aa",
   "metadata": {
    "ExecuteTime": {
     "end_time": "2023-07-17T16:23:05.146793Z",
     "start_time": "2023-07-17T16:23:05.136802Z"
    }
   },
   "outputs": [
    {
     "data": {
      "text/plain": [
       "(1000, 14)"
      ]
     },
     "execution_count": 4,
     "metadata": {},
     "output_type": "execute_result"
    }
   ],
   "source": [
    "df.shape"
   ]
  },
  {
   "cell_type": "code",
   "execution_count": 7,
   "id": "e8e3df80",
   "metadata": {
    "ExecuteTime": {
     "end_time": "2023-07-17T16:24:18.231549Z",
     "start_time": "2023-07-17T16:24:18.221575Z"
    }
   },
   "outputs": [
    {
     "data": {
      "text/plain": [
       "Job Title            0\n",
       "Salary Estimate      0\n",
       "Job Description      0\n",
       "Rating               0\n",
       "Company Name         0\n",
       "Location             0\n",
       "Headquarters         0\n",
       "Size                 0\n",
       "Founded              0\n",
       "Type of ownership    0\n",
       "Industry             0\n",
       "Sector               0\n",
       "Revenue              0\n",
       "Competitors          0\n",
       "dtype: int64"
      ]
     },
     "execution_count": 7,
     "metadata": {},
     "output_type": "execute_result"
    }
   ],
   "source": [
    "#lets first check for any null values\n",
    "df.isna().sum()"
   ]
  },
  {
   "cell_type": "markdown",
   "id": "239977f9",
   "metadata": {},
   "source": [
    "### It's a good news that the dataset doesn't have any null values"
   ]
  },
  {
   "cell_type": "code",
   "execution_count": 8,
   "id": "65d5f2a3",
   "metadata": {
    "ExecuteTime": {
     "end_time": "2023-07-17T16:25:38.296652Z",
     "start_time": "2023-07-17T16:25:38.276653Z"
    }
   },
   "outputs": [
    {
     "name": "stdout",
     "output_type": "stream",
     "text": [
      "<class 'pandas.core.frame.DataFrame'>\n",
      "RangeIndex: 1000 entries, 0 to 999\n",
      "Data columns (total 14 columns):\n",
      " #   Column             Non-Null Count  Dtype  \n",
      "---  ------             --------------  -----  \n",
      " 0   Job Title          1000 non-null   object \n",
      " 1   Salary Estimate    1000 non-null   object \n",
      " 2   Job Description    1000 non-null   object \n",
      " 3   Rating             1000 non-null   float64\n",
      " 4   Company Name       1000 non-null   object \n",
      " 5   Location           1000 non-null   object \n",
      " 6   Headquarters       1000 non-null   object \n",
      " 7   Size               1000 non-null   object \n",
      " 8   Founded            1000 non-null   int64  \n",
      " 9   Type of ownership  1000 non-null   object \n",
      " 10  Industry           1000 non-null   object \n",
      " 11  Sector             1000 non-null   object \n",
      " 12  Revenue            1000 non-null   object \n",
      " 13  Competitors        1000 non-null   object \n",
      "dtypes: float64(1), int64(1), object(12)\n",
      "memory usage: 109.5+ KB\n"
     ]
    }
   ],
   "source": [
    "#lets check if the data type is correct for each column\n",
    "df.info()"
   ]
  },
  {
   "cell_type": "markdown",
   "id": "88c250b3",
   "metadata": {
    "ExecuteTime": {
     "end_time": "2023-07-17T16:29:55.103072Z",
     "start_time": "2023-07-17T16:29:55.094057Z"
    }
   },
   "source": [
    "<hr>"
   ]
  },
  {
   "cell_type": "markdown",
   "id": "bec8cc9e",
   "metadata": {},
   "source": [
    "Data values of column Salary Estimate are not correct/clean  <br>\n",
    "We need to clean this column and change its create new columns like Min Salary and Max Salary"
   ]
  },
  {
   "cell_type": "code",
   "execution_count": 11,
   "id": "dbd3cd14",
   "metadata": {
    "ExecuteTime": {
     "end_time": "2023-07-17T16:31:24.868566Z",
     "start_time": "2023-07-17T16:31:24.855583Z"
    }
   },
   "outputs": [
    {
     "data": {
      "text/plain": [
       "0        $77K-$92K (Glassdoor Est.)\n",
       "1        $77K-$92K (Glassdoor Est.)\n",
       "2        $77K-$92K (Glassdoor Est.)\n",
       "3        $77K-$92K (Glassdoor Est.)\n",
       "4        $77K-$92K (Glassdoor Est.)\n",
       "                   ...             \n",
       "995    $105K-$138K (Glassdoor Est.)\n",
       "996    $105K-$138K (Glassdoor Est.)\n",
       "997    $105K-$138K (Glassdoor Est.)\n",
       "998    $105K-$138K (Glassdoor Est.)\n",
       "999    $105K-$138K (Glassdoor Est.)\n",
       "Name: Salary Estimate, Length: 1000, dtype: object"
      ]
     },
     "execution_count": 11,
     "metadata": {},
     "output_type": "execute_result"
    }
   ],
   "source": [
    "df['Salary Estimate']\n",
    "# looks like the pattern is same accross the data values : $numK - $numK (Glassdoor Est.)\n",
    "# we need to remove the extra characters and just keep the numerical values"
   ]
  },
  {
   "cell_type": "markdown",
   "id": "57839a2e",
   "metadata": {
    "ExecuteTime": {
     "end_time": "2023-07-17T16:32:47.995535Z",
     "start_time": "2023-07-17T16:32:47.987545Z"
    }
   },
   "source": [
    "before we mess it up, lets copy the data into another variable so operations do not affect the \n",
    "original data and we will always have an option to roll back to the original data\n"
   ]
  },
  {
   "cell_type": "code",
   "execution_count": 115,
   "id": "96100ff5",
   "metadata": {
    "ExecuteTime": {
     "end_time": "2023-07-17T17:22:45.585558Z",
     "start_time": "2023-07-17T17:22:45.562819Z"
    }
   },
   "outputs": [
    {
     "data": {
      "text/html": [
       "<div>\n",
       "<style scoped>\n",
       "    .dataframe tbody tr th:only-of-type {\n",
       "        vertical-align: middle;\n",
       "    }\n",
       "\n",
       "    .dataframe tbody tr th {\n",
       "        vertical-align: top;\n",
       "    }\n",
       "\n",
       "    .dataframe thead th {\n",
       "        text-align: right;\n",
       "    }\n",
       "</style>\n",
       "<table border=\"1\" class=\"dataframe\">\n",
       "  <thead>\n",
       "    <tr style=\"text-align: right;\">\n",
       "      <th></th>\n",
       "      <th>Job Title</th>\n",
       "      <th>Salary Estimate</th>\n",
       "      <th>Job Description</th>\n",
       "      <th>Rating</th>\n",
       "      <th>Company Name</th>\n",
       "      <th>Location</th>\n",
       "      <th>Headquarters</th>\n",
       "      <th>Size</th>\n",
       "      <th>Founded</th>\n",
       "      <th>Type of ownership</th>\n",
       "      <th>Industry</th>\n",
       "      <th>Sector</th>\n",
       "      <th>Revenue</th>\n",
       "      <th>Competitors</th>\n",
       "    </tr>\n",
       "  </thead>\n",
       "  <tbody>\n",
       "    <tr>\n",
       "      <th>0</th>\n",
       "      <td>Data Scientist</td>\n",
       "      <td>$77K-$92K (Glassdoor Est.)</td>\n",
       "      <td>Data Scientist\\nAffinity Solutions / Marketing...</td>\n",
       "      <td>2.9</td>\n",
       "      <td>Affinity Solutions\\n2.9</td>\n",
       "      <td>New York, NY</td>\n",
       "      <td>New York, NY</td>\n",
       "      <td>51 to 200 employees</td>\n",
       "      <td>1998</td>\n",
       "      <td>Company - Private</td>\n",
       "      <td>Advertising &amp; Marketing</td>\n",
       "      <td>Business Services</td>\n",
       "      <td>Unknown / Non-Applicable</td>\n",
       "      <td>Commerce Signals, Cardlytics, Yodlee</td>\n",
       "    </tr>\n",
       "    <tr>\n",
       "      <th>1</th>\n",
       "      <td>Data Scientist</td>\n",
       "      <td>$77K-$92K (Glassdoor Est.)</td>\n",
       "      <td>Secure our Nation, Ignite your Future\\n\\nSumma...</td>\n",
       "      <td>4.1</td>\n",
       "      <td>ManTech\\n4.1</td>\n",
       "      <td>Chantilly, VA</td>\n",
       "      <td>Herndon, VA</td>\n",
       "      <td>5001 to 10000 employees</td>\n",
       "      <td>1968</td>\n",
       "      <td>Company - Public</td>\n",
       "      <td>Research &amp; Development</td>\n",
       "      <td>Business Services</td>\n",
       "      <td>₹100 to ₹500 billion (INR)</td>\n",
       "      <td>-1</td>\n",
       "    </tr>\n",
       "    <tr>\n",
       "      <th>2</th>\n",
       "      <td>Data Scientist</td>\n",
       "      <td>$77K-$92K (Glassdoor Est.)</td>\n",
       "      <td>By clicking the Apply button, I understand tha...</td>\n",
       "      <td>3.7</td>\n",
       "      <td>Takeda\\n3.7</td>\n",
       "      <td>Cambridge, MA</td>\n",
       "      <td>OSAKA, Japan</td>\n",
       "      <td>10000+ employees</td>\n",
       "      <td>1781</td>\n",
       "      <td>Company - Public</td>\n",
       "      <td>Biotech &amp; Pharmaceuticals</td>\n",
       "      <td>Biotech &amp; Pharmaceuticals</td>\n",
       "      <td>₹500+ billion (INR)</td>\n",
       "      <td>Novartis, Baxter, Pfizer</td>\n",
       "    </tr>\n",
       "    <tr>\n",
       "      <th>3</th>\n",
       "      <td>Data Scientist</td>\n",
       "      <td>$77K-$92K (Glassdoor Est.)</td>\n",
       "      <td>Join Our Growing Team\\nA career with A Place f...</td>\n",
       "      <td>3.0</td>\n",
       "      <td>A Place for Mom\\n3.0</td>\n",
       "      <td>Overland Park, KS</td>\n",
       "      <td>New York, NY</td>\n",
       "      <td>501 to 1000 employees</td>\n",
       "      <td>2000</td>\n",
       "      <td>Company - Private</td>\n",
       "      <td>Healthcare Services &amp; Hospitals</td>\n",
       "      <td>Healthcare</td>\n",
       "      <td>Unknown / Non-Applicable</td>\n",
       "      <td>Enlivant, Sunrise Senior Living, Brookdale Sen...</td>\n",
       "    </tr>\n",
       "    <tr>\n",
       "      <th>4</th>\n",
       "      <td>Data Scientist</td>\n",
       "      <td>$77K-$92K (Glassdoor Est.)</td>\n",
       "      <td>We are looking for Data Scientists who are int...</td>\n",
       "      <td>3.7</td>\n",
       "      <td>GovTech\\n3.7</td>\n",
       "      <td>San Francisco, CA</td>\n",
       "      <td>Singapore, Singapore</td>\n",
       "      <td>1001 to 5000 employees</td>\n",
       "      <td>2016</td>\n",
       "      <td>Government</td>\n",
       "      <td>Government Agencies</td>\n",
       "      <td>Government</td>\n",
       "      <td>Unknown / Non-Applicable</td>\n",
       "      <td>-1</td>\n",
       "    </tr>\n",
       "  </tbody>\n",
       "</table>\n",
       "</div>"
      ],
      "text/plain": [
       "        Job Title             Salary Estimate  \\\n",
       "0  Data Scientist  $77K-$92K (Glassdoor Est.)   \n",
       "1  Data Scientist  $77K-$92K (Glassdoor Est.)   \n",
       "2  Data Scientist  $77K-$92K (Glassdoor Est.)   \n",
       "3  Data Scientist  $77K-$92K (Glassdoor Est.)   \n",
       "4  Data Scientist  $77K-$92K (Glassdoor Est.)   \n",
       "\n",
       "                                     Job Description  Rating  \\\n",
       "0  Data Scientist\\nAffinity Solutions / Marketing...     2.9   \n",
       "1  Secure our Nation, Ignite your Future\\n\\nSumma...     4.1   \n",
       "2  By clicking the Apply button, I understand tha...     3.7   \n",
       "3  Join Our Growing Team\\nA career with A Place f...     3.0   \n",
       "4  We are looking for Data Scientists who are int...     3.7   \n",
       "\n",
       "              Company Name           Location          Headquarters  \\\n",
       "0  Affinity Solutions\\n2.9       New York, NY          New York, NY   \n",
       "1             ManTech\\n4.1      Chantilly, VA           Herndon, VA   \n",
       "2              Takeda\\n3.7      Cambridge, MA          OSAKA, Japan   \n",
       "3     A Place for Mom\\n3.0  Overland Park, KS          New York, NY   \n",
       "4             GovTech\\n3.7  San Francisco, CA  Singapore, Singapore   \n",
       "\n",
       "                      Size  Founded  Type of ownership  \\\n",
       "0      51 to 200 employees     1998  Company - Private   \n",
       "1  5001 to 10000 employees     1968   Company - Public   \n",
       "2         10000+ employees     1781   Company - Public   \n",
       "3    501 to 1000 employees     2000  Company - Private   \n",
       "4   1001 to 5000 employees     2016         Government   \n",
       "\n",
       "                          Industry                     Sector  \\\n",
       "0          Advertising & Marketing          Business Services   \n",
       "1           Research & Development          Business Services   \n",
       "2        Biotech & Pharmaceuticals  Biotech & Pharmaceuticals   \n",
       "3  Healthcare Services & Hospitals                 Healthcare   \n",
       "4              Government Agencies                 Government   \n",
       "\n",
       "                      Revenue  \\\n",
       "0    Unknown / Non-Applicable   \n",
       "1  ₹100 to ₹500 billion (INR)   \n",
       "2         ₹500+ billion (INR)   \n",
       "3    Unknown / Non-Applicable   \n",
       "4    Unknown / Non-Applicable   \n",
       "\n",
       "                                         Competitors  \n",
       "0               Commerce Signals, Cardlytics, Yodlee  \n",
       "1                                                 -1  \n",
       "2                           Novartis, Baxter, Pfizer  \n",
       "3  Enlivant, Sunrise Senior Living, Brookdale Sen...  \n",
       "4                                                 -1  "
      ]
     },
     "execution_count": 115,
     "metadata": {},
     "output_type": "execute_result"
    }
   ],
   "source": [
    "copy_df = df.copy()\n",
    "copy_df.head()"
   ]
  },
  {
   "cell_type": "code",
   "execution_count": 116,
   "id": "a58d9915",
   "metadata": {
    "ExecuteTime": {
     "end_time": "2023-07-17T17:22:45.742297Z",
     "start_time": "2023-07-17T17:22:45.726443Z"
    }
   },
   "outputs": [
    {
     "data": {
      "text/plain": [
       "$105K-$138K (Glassdoor Est.)          130\n",
       "$108K-$140K (Glassdoor Est.)           30\n",
       "$59K-$101K (Glassdoor Est.)            30\n",
       "$81K-$137K (Glassdoor Est.)            30\n",
       "$81K-$102K (Glassdoor Est.)            30\n",
       "$60K-$124K (Glassdoor Est.)            30\n",
       "$71K-$108K (Glassdoor Est.)            30\n",
       "$112K-$149K (Glassdoor Est.)           30\n",
       "$88K-$133K (Glassdoor Est.)            30\n",
       "$83K-$99K (Glassdoor Est.)             30\n",
       "$92K-$146K (Glassdoor Est.)            30\n",
       "$86K-$108K (Glassdoor Est.)            30\n",
       "$73K-$128K (Glassdoor Est.)            30\n",
       "$68K-$119K (Glassdoor Est.)            30\n",
       "$125K-$156K (Glassdoor Est.)           30\n",
       "$77K-$92K (Glassdoor Est.)             30\n",
       "$72K-$121K (Glassdoor Est.)            30\n",
       "$70K-$119K (Glassdoor Est.)            30\n",
       "$110K-$145K (Glassdoor Est.)           30\n",
       "$48K-$91K (Glassdoor Est.)             30\n",
       "$50K-$63K (Glassdoor Est.)             30\n",
       "$95K-$165K (Glassdoor Est.)            30\n",
       "$57K-$94K (Glassdoor Est.)             30\n",
       "$105K-$117K (Glassdoor Est.)           30\n",
       "$139K-$229K (Glassdoor Est.)           30\n",
       "$41K-$73K (Glassdoor Est.)             30\n",
       "$106K-$143K (Glassdoor Est.)           30\n",
       "$90K-$109K (Glassdoor Est.)            30\n",
       "$ 17-$ 23 Per Hour(Glassdoor Est.)     30\n",
       "$49K-$88K (Glassdoor Est.)             30\n",
       "Name: Salary Estimate, dtype: int64"
      ]
     },
     "execution_count": 116,
     "metadata": {},
     "output_type": "execute_result"
    }
   ],
   "source": [
    "copy_df['Salary Estimate'].value_counts(dropna=False)\n",
    "#this confirms what we need to remove from the values"
   ]
  },
  {
   "cell_type": "code",
   "execution_count": 117,
   "id": "1d02d361",
   "metadata": {
    "ExecuteTime": {
     "end_time": "2023-07-17T17:22:45.883271Z",
     "start_time": "2023-07-17T17:22:45.870792Z"
    }
   },
   "outputs": [],
   "source": [
    "#lets first get rid of that \"(Glassdoor Est.)\" text\n",
    "#here we are using regular expression to split the text by either '(' or 'P'\n",
    "#it will return a list after spliting, then we will keep the 0th element from the list\n",
    "import re\n",
    "def split_string(string):\n",
    "    split_result = re.split(r'\\(|P', string)\n",
    "    return split_result[0] if split_result else \"\"\n",
    "\n",
    "copy_df['Salary Estimate'] = copy_df['Salary Estimate'].apply(lambda x: split_string(x))"
   ]
  },
  {
   "cell_type": "code",
   "execution_count": 118,
   "id": "dc23f6fb",
   "metadata": {
    "ExecuteTime": {
     "end_time": "2023-07-17T17:22:46.038266Z",
     "start_time": "2023-07-17T17:22:46.026680Z"
    }
   },
   "outputs": [
    {
     "data": {
      "text/plain": [
       "0        $77K-$92K \n",
       "1        $77K-$92K \n",
       "2        $77K-$92K \n",
       "3        $77K-$92K \n",
       "4        $77K-$92K \n",
       "           ...     \n",
       "995    $105K-$138K \n",
       "996    $105K-$138K \n",
       "997    $105K-$138K \n",
       "998    $105K-$138K \n",
       "999    $105K-$138K \n",
       "Name: Salary Estimate, Length: 1000, dtype: object"
      ]
     },
     "execution_count": 118,
     "metadata": {},
     "output_type": "execute_result"
    }
   ],
   "source": [
    "copy_df['Salary Estimate']"
   ]
  },
  {
   "cell_type": "code",
   "execution_count": 119,
   "id": "934e3896",
   "metadata": {
    "ExecuteTime": {
     "end_time": "2023-07-17T17:22:47.769432Z",
     "start_time": "2023-07-17T17:22:47.758909Z"
    }
   },
   "outputs": [],
   "source": [
    "# lets remove the $ and k signs now\n",
    "copy_df['Salary Estimate'] = copy_df['Salary Estimate'].apply(lambda x: x.replace(\"$\", \"\").replace(\"K\", \"\"))"
   ]
  },
  {
   "cell_type": "code",
   "execution_count": 120,
   "id": "366adff4",
   "metadata": {
    "ExecuteTime": {
     "end_time": "2023-07-17T17:22:49.384197Z",
     "start_time": "2023-07-17T17:22:49.371624Z"
    }
   },
   "outputs": [
    {
     "data": {
      "text/plain": [
       "0        77-92 \n",
       "1        77-92 \n",
       "2        77-92 \n",
       "3        77-92 \n",
       "4        77-92 \n",
       "         ...   \n",
       "995    105-138 \n",
       "996    105-138 \n",
       "997    105-138 \n",
       "998    105-138 \n",
       "999    105-138 \n",
       "Name: Salary Estimate, Length: 1000, dtype: object"
      ]
     },
     "execution_count": 120,
     "metadata": {},
     "output_type": "execute_result"
    }
   ],
   "source": [
    "copy_df['Salary Estimate']"
   ]
  },
  {
   "cell_type": "code",
   "execution_count": 123,
   "id": "b7bee10f",
   "metadata": {
    "ExecuteTime": {
     "end_time": "2023-07-17T17:24:21.554201Z",
     "start_time": "2023-07-17T17:24:21.543202Z"
    }
   },
   "outputs": [],
   "source": [
    "#now that we have only numbers from the text, we can create new columns like Min, Max Salary, and Average Salary\n",
    "copy_df['Min Salary'] = copy_df['Salary Estimate'].apply(lambda x: int(x.split('-')[0]))\n",
    "copy_df['Max Salary'] = copy_df['Salary Estimate'].apply(lambda x: int(x.split('-')[1]))\n",
    "copy_df['Avg Salary'] = (copy_df['Min Salary']+copy_df['Max Salary'])/2"
   ]
  },
  {
   "cell_type": "code",
   "execution_count": 122,
   "id": "00df0583",
   "metadata": {
    "ExecuteTime": {
     "end_time": "2023-07-17T17:22:51.736737Z",
     "start_time": "2023-07-17T17:22:51.721570Z"
    }
   },
   "outputs": [
    {
     "data": {
      "text/plain": [
       "0       77\n",
       "1       77\n",
       "2       77\n",
       "3       77\n",
       "4       77\n",
       "      ... \n",
       "995    105\n",
       "996    105\n",
       "997    105\n",
       "998    105\n",
       "999    105\n",
       "Name: Min Salary, Length: 1000, dtype: int64"
      ]
     },
     "execution_count": 122,
     "metadata": {},
     "output_type": "execute_result"
    }
   ],
   "source": [
    "copy_df['Min Salary']"
   ]
  },
  {
   "cell_type": "code",
   "execution_count": 106,
   "id": "6fe941c2",
   "metadata": {
    "ExecuteTime": {
     "end_time": "2023-07-17T17:19:52.982338Z",
     "start_time": "2023-07-17T17:19:52.966345Z"
    }
   },
   "outputs": [
    {
     "data": {
      "text/plain": [
       "0       92 \n",
       "1       92 \n",
       "2       92 \n",
       "3       92 \n",
       "4       92 \n",
       "       ... \n",
       "995    138 \n",
       "996    138 \n",
       "997    138 \n",
       "998    138 \n",
       "999    138 \n",
       "Name: Max Salary, Length: 1000, dtype: object"
      ]
     },
     "execution_count": 106,
     "metadata": {},
     "output_type": "execute_result"
    }
   ],
   "source": [
    "copy_df['Max Salary']"
   ]
  },
  {
   "cell_type": "code",
   "execution_count": 124,
   "id": "04698d08",
   "metadata": {
    "ExecuteTime": {
     "end_time": "2023-07-17T17:24:31.578772Z",
     "start_time": "2023-07-17T17:24:31.570776Z"
    }
   },
   "outputs": [
    {
     "data": {
      "text/plain": [
       "0       84.5\n",
       "1       84.5\n",
       "2       84.5\n",
       "3       84.5\n",
       "4       84.5\n",
       "       ...  \n",
       "995    121.5\n",
       "996    121.5\n",
       "997    121.5\n",
       "998    121.5\n",
       "999    121.5\n",
       "Name: Avg Salary, Length: 1000, dtype: float64"
      ]
     },
     "execution_count": 124,
     "metadata": {},
     "output_type": "execute_result"
    }
   ],
   "source": [
    "copy_df['Avg Salary']"
   ]
  },
  {
   "cell_type": "code",
   "execution_count": 107,
   "id": "e4c24bb7",
   "metadata": {
    "ExecuteTime": {
     "end_time": "2023-07-17T17:19:53.752227Z",
     "start_time": "2023-07-17T17:19:53.743183Z"
    }
   },
   "outputs": [],
   "source": [
    "#lets clean the Size column so that we can create new columns for computation\n",
    "copy_df['Size'] = copy_df['Size'].apply(lambda x :  x.replace('to','').replace('employees',''))"
   ]
  },
  {
   "cell_type": "code",
   "execution_count": 108,
   "id": "10a219bd",
   "metadata": {
    "ExecuteTime": {
     "end_time": "2023-07-17T17:19:54.720887Z",
     "start_time": "2023-07-17T17:19:54.702885Z"
    }
   },
   "outputs": [
    {
     "data": {
      "text/plain": [
       "51  200         200\n",
       "1001  5000      162\n",
       "10000+          151\n",
       "1  50           130\n",
       "201  500        124\n",
       "501  1000       121\n",
       "5001  10000      55\n",
       "Unknown          30\n",
       "-1               27\n",
       "Name: Size, dtype: int64"
      ]
     },
     "execution_count": 108,
     "metadata": {},
     "output_type": "execute_result"
    }
   ],
   "source": [
    "copy_df['Size'].value_counts()"
   ]
  },
  {
   "cell_type": "code",
   "execution_count": 113,
   "id": "2fee3b63",
   "metadata": {
    "ExecuteTime": {
     "end_time": "2023-07-17T17:20:39.488180Z",
     "start_time": "2023-07-17T17:20:39.471181Z"
    }
   },
   "outputs": [],
   "source": [
    "#\n",
    "copy_df = copy_df[copy_df['Size'] != 'Unknown']\n",
    "copy_df = copy_df[copy_df['Size'] != '-1']\n"
   ]
  },
  {
   "cell_type": "code",
   "execution_count": 114,
   "id": "03f818f5",
   "metadata": {
    "ExecuteTime": {
     "end_time": "2023-07-17T17:20:40.197477Z",
     "start_time": "2023-07-17T17:20:40.179489Z"
    }
   },
   "outputs": [
    {
     "data": {
      "text/plain": [
       "51  200         200\n",
       "1001  5000      162\n",
       "10000+          151\n",
       "1  50           130\n",
       "201  500        124\n",
       "501  1000       121\n",
       "5001  10000      55\n",
       "Name: Size, dtype: int64"
      ]
     },
     "execution_count": 114,
     "metadata": {},
     "output_type": "execute_result"
    }
   ],
   "source": [
    "copy_df['Size'].value_counts()"
   ]
  },
  {
   "cell_type": "code",
   "execution_count": 131,
   "id": "7242494a",
   "metadata": {
    "ExecuteTime": {
     "end_time": "2023-07-17T17:33:25.430507Z",
     "start_time": "2023-07-17T17:33:25.416451Z"
    }
   },
   "outputs": [],
   "source": [
    "#company name has rating and \\n attached to it at the end. We need to fix this by removing it.\n",
    "copy_df['Company_Text'] = copy_df.apply(lambda x : x['Company Name'] if x['Rating']<0 else x['Company Name'][:-4],axis =1)"
   ]
  },
  {
   "cell_type": "code",
   "execution_count": 151,
   "id": "1c367772",
   "metadata": {
    "ExecuteTime": {
     "end_time": "2023-07-17T17:45:52.828547Z",
     "start_time": "2023-07-17T17:45:52.818530Z"
    }
   },
   "outputs": [],
   "source": [
    "copy_df = copy_df[copy_df['Location'].str.contains(',')]"
   ]
  },
  {
   "cell_type": "code",
   "execution_count": 152,
   "id": "75d35d1f",
   "metadata": {
    "ExecuteTime": {
     "end_time": "2023-07-17T17:45:54.682552Z",
     "start_time": "2023-07-17T17:45:54.670570Z"
    }
   },
   "outputs": [
    {
     "name": "stderr",
     "output_type": "stream",
     "text": [
      "<ipython-input-152-d4d16217405e>:2: SettingWithCopyWarning: \n",
      "A value is trying to be set on a copy of a slice from a DataFrame.\n",
      "Try using .loc[row_indexer,col_indexer] = value instead\n",
      "\n",
      "See the caveats in the documentation: https://pandas.pydata.org/pandas-docs/stable/user_guide/indexing.html#returning-a-view-versus-a-copy\n",
      "  copy_df['State'] = copy_df['Location'].apply(lambda x : x.split(',')[1])\n"
     ]
    }
   ],
   "source": [
    "#lets create a new column for state, which stores State of that company \n",
    "copy_df['State'] = copy_df['Location'].apply(lambda x : x.split(',')[1])"
   ]
  },
  {
   "cell_type": "code",
   "execution_count": 157,
   "id": "be6a01fe",
   "metadata": {
    "ExecuteTime": {
     "end_time": "2023-07-17T17:52:14.707981Z",
     "start_time": "2023-07-17T17:52:14.684981Z"
    }
   },
   "outputs": [
    {
     "name": "stderr",
     "output_type": "stream",
     "text": [
      "<ipython-input-157-c337958d51b2>:3: SettingWithCopyWarning: \n",
      "A value is trying to be set on a copy of a slice from a DataFrame.\n",
      "Try using .loc[row_indexer,col_indexer] = value instead\n",
      "\n",
      "See the caveats in the documentation: https://pandas.pydata.org/pandas-docs/stable/user_guide/indexing.html#returning-a-view-versus-a-copy\n",
      "  copy_df['Same State'] = copy_df.apply(lambda x : 1 if x.Location == x.Headquarters else  0 ,axis = 1)\n"
     ]
    }
   ],
   "source": [
    "# we can also create a column which tells us if the company location is the\n",
    "#headquarters for the corresponding company or not\n",
    "copy_df['Same State'] = copy_df.apply(lambda x : 1 if x.Location == x.Headquarters else  0 ,axis = 1)"
   ]
  },
  {
   "cell_type": "code",
   "execution_count": 165,
   "id": "7a9624fa",
   "metadata": {
    "ExecuteTime": {
     "end_time": "2023-07-17T17:57:45.129954Z",
     "start_time": "2023-07-17T17:57:45.118957Z"
    }
   },
   "outputs": [],
   "source": [
    "# we can also find out the age of the company using FOUNDED column\n",
    "# but this column contain irregular values like -1, since the founded year cannot be negative\n",
    "# we will fill it with median that is 1995\n",
    "copy_df['Founded'] = copy_df['Founded'].replace(-1,1995)"
   ]
  },
  {
   "cell_type": "code",
   "execution_count": 168,
   "id": "72f1ae61",
   "metadata": {
    "ExecuteTime": {
     "end_time": "2023-07-17T17:59:34.427523Z",
     "start_time": "2023-07-17T17:59:34.418535Z"
    }
   },
   "outputs": [],
   "source": [
    "# here we are calculating the age of the company\n",
    "copy_df['Company Age'] = copy_df['Founded'].apply(lambda x: x if x <1  else 2023 -x)"
   ]
  },
  {
   "cell_type": "code",
   "execution_count": 171,
   "id": "5aa6c609",
   "metadata": {
    "ExecuteTime": {
     "end_time": "2023-07-17T18:07:36.768064Z",
     "start_time": "2023-07-17T18:07:36.728423Z"
    }
   },
   "outputs": [
    {
     "data": {
      "text/plain": [
       "1    644\n",
       "0    335\n",
       "Name: Python_req, dtype: int64"
      ]
     },
     "execution_count": 171,
     "metadata": {},
     "output_type": "execute_result"
    }
   ],
   "source": [
    "# we can use JOB DESCRIPTION column to find out which technologies company ask for a candidate must have experience in\n",
    "# Python\n",
    "\n",
    "copy_df['Python_req'] = copy_df['Job Description'].apply(\n",
    "    lambda x: 1 if 'python' in x.lower() or 'Python' in x.lower() else 0)\n",
    "copy_df['Python_req'].value_counts()"
   ]
  },
  {
   "cell_type": "code",
   "execution_count": 173,
   "id": "c1c15c92",
   "metadata": {
    "ExecuteTime": {
     "end_time": "2023-07-17T18:08:40.694197Z",
     "start_time": "2023-07-17T18:08:40.620782Z"
    }
   },
   "outputs": [
    {
     "data": {
      "text/plain": [
       "0    976\n",
       "1      3\n",
       "Name: R_Studio_req, dtype: int64"
      ]
     },
     "execution_count": 173,
     "metadata": {},
     "output_type": "execute_result"
    }
   ],
   "source": [
    "# R Studio\n",
    "\n",
    "copy_df['R_Studio_req'] = copy_df['Job Description'].apply(\n",
    "    lambda x: 1 if 'r studio' in x.lower() or 'R studio' in x.lower() or 'R Studio' in x.lower() else 0)\n",
    "copy_df['R_Studio_req'].value_counts()"
   ]
  },
  {
   "cell_type": "code",
   "execution_count": 174,
   "id": "89550c49",
   "metadata": {
    "ExecuteTime": {
     "end_time": "2023-07-17T18:09:09.607499Z",
     "start_time": "2023-07-17T18:09:09.559508Z"
    }
   },
   "outputs": [
    {
     "data": {
      "text/plain": [
       "0    750\n",
       "1    229\n",
       "Name: Spark_req, dtype: int64"
      ]
     },
     "execution_count": 174,
     "metadata": {},
     "output_type": "execute_result"
    }
   ],
   "source": [
    "#spark\n",
    "copy_df['Spark_req'] = copy_df['Job Description'].apply(\n",
    "    lambda x: 1 if 'Spark' in x.lower() or 'spark' in x.lower() else 0)\n",
    "copy_df['Spark_req'].value_counts()"
   ]
  },
  {
   "cell_type": "code",
   "execution_count": 175,
   "id": "2e41d39e",
   "metadata": {
    "ExecuteTime": {
     "end_time": "2023-07-17T18:09:36.918554Z",
     "start_time": "2023-07-17T18:09:36.871443Z"
    }
   },
   "outputs": [
    {
     "data": {
      "text/plain": [
       "0    575\n",
       "1    404\n",
       "Name: Excel_req, dtype: int64"
      ]
     },
     "execution_count": 175,
     "metadata": {},
     "output_type": "execute_result"
    }
   ],
   "source": [
    "#Excel\n",
    "copy_df['Excel_req'] = copy_df['Job Description'].apply(\n",
    "    lambda x: 1 if 'Excel' in x.lower() or 'excel' in x.lower() else 0)\n",
    "copy_df['Excel_req'].value_counts()"
   ]
  },
  {
   "cell_type": "code",
   "execution_count": 176,
   "id": "bace5edc",
   "metadata": {
    "ExecuteTime": {
     "end_time": "2023-07-17T18:09:58.584208Z",
     "start_time": "2023-07-17T18:09:58.528021Z"
    }
   },
   "outputs": [
    {
     "data": {
      "text/plain": [
       "0    745\n",
       "1    234\n",
       "Name: AWS_req, dtype: int64"
      ]
     },
     "execution_count": 176,
     "metadata": {},
     "output_type": "execute_result"
    }
   ],
   "source": [
    "#Aws\n",
    "copy_df['AWS_req'] = copy_df['Job Description'].apply(\n",
    "    lambda x: 1 if 'AWS' in x.lower() or 'aws' in x.lower() else 0)\n",
    "copy_df['AWS_req'].value_counts()"
   ]
  },
  {
   "cell_type": "markdown",
   "id": "0bd16390",
   "metadata": {},
   "source": [
    "### Now we have finished our data cleaning, we will export this as csv for further usage"
   ]
  },
  {
   "cell_type": "code",
   "execution_count": 178,
   "id": "7f1880f8",
   "metadata": {
    "ExecuteTime": {
     "end_time": "2023-07-17T18:13:13.021094Z",
     "start_time": "2023-07-17T18:13:12.907201Z"
    }
   },
   "outputs": [],
   "source": [
    "copy_df.to_csv('CleanedGlassdoorDataScienceJobs.csv',index = False)"
   ]
  },
  {
   "cell_type": "code",
   "execution_count": null,
   "id": "f24ac895",
   "metadata": {},
   "outputs": [],
   "source": [
    "f"
   ]
  }
 ],
 "metadata": {
  "kernelspec": {
   "display_name": "Python 3 (ipykernel)",
   "language": "python",
   "name": "python3"
  },
  "language_info": {
   "codemirror_mode": {
    "name": "ipython",
    "version": 3
   },
   "file_extension": ".py",
   "mimetype": "text/x-python",
   "name": "python",
   "nbconvert_exporter": "python",
   "pygments_lexer": "ipython3",
   "version": "3.8.3"
  }
 },
 "nbformat": 4,
 "nbformat_minor": 5
}
